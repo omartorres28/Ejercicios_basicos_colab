{
  "nbformat": 4,
  "nbformat_minor": 0,
  "metadata": {
    "colab": {
      "provenance": [],
      "authorship_tag": "ABX9TyPqy3vYQO0Tfc/u3MSSk8xs",
      "include_colab_link": true
    },
    "kernelspec": {
      "name": "python3",
      "display_name": "Python 3"
    },
    "language_info": {
      "name": "python"
    }
  },
  "cells": [
    {
      "cell_type": "markdown",
      "metadata": {
        "id": "view-in-github",
        "colab_type": "text"
      },
      "source": [
        "<a href=\"https://colab.research.google.com/github/omartorres28/Ejercicios_basicos_colab/blob/main/Condicionales.ipynb\" target=\"_parent\"><img src=\"https://colab.research.google.com/assets/colab-badge.svg\" alt=\"Open In Colab\"/></a>"
      ]
    },
    {
      "cell_type": "markdown",
      "source": [
        "# INSTRUCCIONES CONDICIONALES\n",
        "\n",
        "\n",
        "*   if\n",
        "*   if else\n",
        "*   if elif else\n",
        "\n",
        "\n",
        "\n",
        "\n",
        "\n",
        "\n"
      ],
      "metadata": {
        "id": "CDxTo45cpiHq"
      }
    },
    {
      "cell_type": "code",
      "source": [
        "# Ejercicio con If\n",
        "\"\"\"Ejercicio 1:\n",
        "Programa para verificar si una persona \n",
        "es mayor de edad\"\"\" \n",
        "\n",
        "print(\"--------------------\")\n",
        "print(\"------MAYOR DE EDAD ------\")\n",
        "print(\"--------------------\")\n",
        "\n",
        "#input\n",
        "edad = int(input(\"Digite elvalor de : \"))\n",
        "\n",
        "#processing\n",
        "if edad>=18:\n",
        "    print(\"La persona es MAYOR DE EDAD\")\n",
        "else:\n",
        "    print(\"La persona es MENOR DE EDAD\")"
      ],
      "metadata": {
        "colab": {
          "base_uri": "https://localhost:8080/"
        },
        "id": "mvu6pjj4r2Hi",
        "outputId": "fddfc643-bbc9-4433-ebde-12cb54be439c"
      },
      "execution_count": 4,
      "outputs": [
        {
          "output_type": "stream",
          "name": "stdout",
          "text": [
            "--------------------\n",
            "------MAYOR DE EDAD ------\n",
            "--------------------\n",
            "Digite elvalor de : 12\n",
            "La persona es MENOR DE EDAD\n"
          ]
        }
      ]
    },
    {
      "cell_type": "code",
      "source": [
        "# Ejercicio con if elif else\n",
        "\"\"\"Ejercicio 2:\n",
        "Programa que por cada número ingresado del 1 al 7 \n",
        "diga que dia de la semana es en ese orden\"\"\"\n",
        "\n",
        "\n",
        "print(\"------------------------------------\")\n",
        "print(\"---------DIAS DE LA SEMANA----------\")\n",
        "print(\"------------------------------------\")\n",
        "\n",
        "\n",
        "# input\n",
        "OP=int(input(\"Digite un número del 1 al 7: \"))\n",
        "\n",
        "\n",
        "#processing\n",
        "if OP==1:\n",
        "  print(\"Es Lunes\")\n",
        "elif OP==2:\n",
        "  print(\"Es Martes\")\n",
        "elif OP==3:\n",
        "  print(\"Es Miércoles\")\n",
        "elif OP==4:\n",
        "  print(\"Es Jueves\")\n",
        "elif OP==5:\n",
        "  print(\"Es Viernes\")\n",
        "elif OP==6:\n",
        "  print(\"Es Sábado\")\n",
        "elif OP==7:\n",
        "  print(\"Es Domingo\")\n",
        "else:\n",
        "  print(\"Día no válido\")"
      ],
      "metadata": {
        "id": "8UWQKmXas4Uv"
      },
      "execution_count": null,
      "outputs": []
    },
    {
      "cell_type": "code",
      "source": [
        "# Ejercicio con if else \n",
        "\"\"\"Ejercicio 3:\n",
        "Programa plano cartesiano\"\"\"\n",
        "\n",
        "print(\"-----------------------\")\n",
        "print(\"-----PLANO CARTESIANO--------\")\n",
        "print(\"-----------------------\")\n",
        "\n",
        "#input \n",
        "x = int(input(\"Digite la cordenada x: \"))\n",
        "y = int(input(\"Digite la cordenada y: \"))\n",
        "\n",
        "#processing\n",
        "if x>=0 and y>=0:\n",
        "    print(\"las coordenadas:\" + \"(\" +str(x)+\",\" + str(y) +\")\" + \" se encuentra en el CUADRANTE 1.\")\n",
        "else:\n",
        "    if x<=0 and y<=0:\n",
        "        print(\"Las coordenadas: \" + \"(\" +str(x)+\",\" + str(y) + \")\" + \" se encuentran en el CUADRANTE 2.\")\n",
        "    else:\n",
        "        if x<=0 and y<=0:\n",
        "            print(\"Las coordenadas: \" + \"(\" +str(x)+\",\" + str(y) + \")\" + \" se encuentran en el CUADRANTE 3.\")\n",
        "        else:\n",
        "            if x>=0 and y<=0:\n",
        "                print(\"Las coordenadas: \" + \"(\" +str(x)+\",\" + str(y) + \")\" + \" se encuentran en el CUADRANTE 4.\")"
      ],
      "metadata": {
        "id": "WZJ8fT_0sKp3"
      },
      "execution_count": null,
      "outputs": []
    }
  ]
}