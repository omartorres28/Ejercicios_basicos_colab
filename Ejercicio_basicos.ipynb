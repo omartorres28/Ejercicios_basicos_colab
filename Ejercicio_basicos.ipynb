{
  "nbformat": 4,
  "nbformat_minor": 0,
  "metadata": {
    "colab": {
      "provenance": [],
      "authorship_tag": "ABX9TyPni7yiR691K26kDbi0Fx9M",
      "include_colab_link": true
    },
    "kernelspec": {
      "name": "python3",
      "display_name": "Python 3"
    },
    "language_info": {
      "name": "python"
    }
  },
  "cells": [
    {
      "cell_type": "markdown",
      "metadata": {
        "id": "view-in-github",
        "colab_type": "text"
      },
      "source": [
        "<a href=\"https://colab.research.google.com/github/omartorres28/Ejercicios_basicos_colab/blob/main/Ejercicio_basicos.ipynb\" target=\"_parent\"><img src=\"https://colab.research.google.com/assets/colab-badge.svg\" alt=\"Open In Colab\"/></a>"
      ]
    },
    {
      "cell_type": "markdown",
      "source": [
        "# Ejercicios basicos python\n",
        "\n",
        "1. Suma de dos numeros\n",
        "2. Potencia de un numero"
      ],
      "metadata": {
        "id": "MqiHqLajgb6_"
      }
    },
    {
      "cell_type": "code",
      "source": [
        "# Suma de dos numeros enteros\n",
        "\n",
        "print(\"----------------------\")\n",
        "print(\"---Suma dos enteros---\")\n",
        "print(\"----------------------\")\n",
        "\n",
        "# input\n",
        "x = int(input(\"Digite el valor de x: \"))\n",
        "y = int(input(\"Digite el valor de y: \"))\n",
        "\n",
        "# Processing\n",
        "z = x + y\n",
        "\n",
        "# Output\n",
        "print(\"La suma de \",x,\" +\",y,\"es\",z)"
      ],
      "metadata": {
        "id": "jTpBGdQ9hxiF"
      },
      "execution_count": null,
      "outputs": []
    },
    {
      "cell_type": "code",
      "source": [
        "# Potencia de un numero\n",
        "\n",
        "print(\"--------------\")\n",
        "print(\"---Potencia---\")\n",
        "print(\"--------------\")\n",
        "\n",
        "# input\n",
        "x = int(input(\"Digite el valor de x: \"))\n",
        "y = int(input(\"Digite el valor de y: \"))\n",
        "\n",
        "# Processing\n",
        "z = x**y\n",
        "\n",
        "# Output\n",
        "print(x, \"elevado a la \", y,\" es \",z)"
      ],
      "metadata": {
        "colab": {
          "base_uri": "https://localhost:8080/"
        },
        "id": "rS34i73skYyn",
        "outputId": "ece85027-b825-49d0-a540-210b8445fc56"
      },
      "execution_count": 3,
      "outputs": [
        {
          "output_type": "stream",
          "name": "stdout",
          "text": [
            "--------------\n",
            "---Potencia---\n",
            "--------------\n",
            "Digite el valor de x: 2\n",
            "Digite el valor de y: 10\n",
            "2 elevado a la  10  es  1024\n"
          ]
        }
      ]
    }
  ]
}