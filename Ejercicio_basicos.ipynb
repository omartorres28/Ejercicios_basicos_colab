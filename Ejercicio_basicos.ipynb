{
  "nbformat": 4,
  "nbformat_minor": 0,
  "metadata": {
    "colab": {
      "provenance": [],
      "authorship_tag": "ABX9TyNvuV0vYF3Uc+kQ52vy4waO",
      "include_colab_link": true
    },
    "kernelspec": {
      "name": "python3",
      "display_name": "Python 3"
    },
    "language_info": {
      "name": "python"
    }
  },
  "cells": [
    {
      "cell_type": "markdown",
      "metadata": {
        "id": "view-in-github",
        "colab_type": "text"
      },
      "source": [
        "<a href=\"https://colab.research.google.com/github/omartorres28/Ejercicios_basicos_colab/blob/main/Ejercicio_basicos.ipynb\" target=\"_parent\"><img src=\"https://colab.research.google.com/assets/colab-badge.svg\" alt=\"Open In Colab\"/></a>"
      ]
    },
    {
      "cell_type": "markdown",
      "source": [
        "# Ejercicios basicos python\n",
        "\n",
        "1. Suma de dos numeros\n",
        "2. Potencia de un numero"
      ],
      "metadata": {
        "id": "MqiHqLajgb6_"
      }
    },
    {
      "cell_type": "code",
      "source": [
        "# Suma de dos numeros enteros\n",
        "\n",
        "print(\"----------------------\")\n",
        "print(\"---Suma dos enteros---\")\n",
        "print(\"----------------------\")\n",
        "\n",
        "# input\n",
        "x = int(input(\"Digite el valor de x: \"))\n",
        "y = int(input(\"Digite el valor de y: \"))\n",
        "\n",
        "# Processing\n",
        "z = x + y\n",
        "\n",
        "# Output\n",
        "print(\"La suma de \",x,\" +\",y,\"es\",z)"
      ],
      "metadata": {
        "id": "jTpBGdQ9hxiF"
      },
      "execution_count": null,
      "outputs": []
    }
  ]
}